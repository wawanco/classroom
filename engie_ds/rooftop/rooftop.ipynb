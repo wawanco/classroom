{
 "cells": [
  {
   "cell_type": "code",
   "execution_count": 143,
   "metadata": {},
   "outputs": [
    {
     "name": "stderr",
     "output_type": "stream",
     "text": [
      "/Users/xc5523/Documents/Sources/datascience/engie_ds/rooftop/venv-rooftop/lib/python3.6/site-packages/h5py/__init__.py:36: FutureWarning: Conversion of the second argument of issubdtype from `float` to `np.floating` is deprecated. In future, it will be treated as `np.float64 == np.dtype(float).type`.\n",
      "  from ._conv import register_converters as _register_converters\n"
     ]
    }
   ],
   "source": [
    "%matplotlib inline\n",
    "from IPython.core.pylabtools import figsize\n",
    "import pandas as pd\n",
    "import keras\n",
    "from PIL import Image, ImageOps, ImageStat\n",
    "import numpy as np\n",
    "import glob\n",
    "from tqdm import tqdm\n",
    "import matplotlib.pyplot as plt\n",
    "from sklearn.model_selection import train_test_split\n",
    "from keras.models import Model, Sequential # basic class for specifying and training a neural network\n",
    "from keras.layers import Convolution2D, MaxPooling2D, Dense, Dropout, Flatten\n",
    "from keras.optimizers import SGD\n",
    "from keras.constraints import maxnorm\n",
    "from keras.utils import np_utils\n",
    "import pickle as pkl\n",
    "import h5py"
   ]
  },
  {
   "cell_type": "markdown",
   "metadata": {},
   "source": [
    "# Data exploration"
   ]
  },
  {
   "cell_type": "code",
   "execution_count": 60,
   "metadata": {},
   "outputs": [
    {
     "data": {
      "image/png": "[encoded data removed]",
      "text/plain": [
       "<matplotlib.figure.Figure at 0x11ac356a0>"
      ]
     },
     "metadata": {},
     "output_type": "display_data"
    }
   ],
   "source": [
    "x, y = [], []\n",
    "for k in glob.glob('images/*.jpg'):\n",
    "    size = Image.open(k).size\n",
    "    x.append(size[0])\n",
    "    y.append(size[1])\n",
    "figsize(14.5, 10)\n",
    "ax = plt.subplot(211)\n",
    "plt.hist(x, histtype='stepfilled', bins=100, alpha=.85, label='Image widthes', color='#348ABD', normed=False)\n",
    "plt.legend(loc=\"upper right\")\n",
    "plt.xlim([0, 400])\n",
    "plt.xlabel('width')\n",
    "\n",
    "ax = plt.subplot(212)\n",
    "plt.hist(y, histtype='stepfilled', bins=100, alpha=.85, label='Image heights', color='#A60628', normed=False)\n",
    "plt.legend(loc=\"upper right\")\n",
    "plt.xlim([0, 400])\n",
    "_ = plt.xlabel('height')"
   ]
  },
  {
   "cell_type": "markdown",
   "metadata": {},
   "source": [
    "# Prepare dataset"
   ]
  },
  {
   "cell_type": "code",
   "execution_count": 82,
   "metadata": {},
   "outputs": [],
   "source": [
    "target_size = 100\n",
    "def get_image_values(impath):\n",
    "    im = Image.open(impath).convert('L')\n",
    "    width, height = im.size\n",
    "    left = max(0, (width - target_size)/2)\n",
    "    top = max(0, (height - target_size)/2)\n",
    "    right = min(width, (width + target_size)/2)\n",
    "    bottom = min(height, (height + target_size)/2)\n",
    "    new_im = Image.new('L', (target_size, target_size), (int(ImageStat.Stat(im).mean[0])))\n",
    "    new_im.paste(im, (int((target_size - width) / 2), int((target_size - height) / 2)))\n",
    "    return np.array(new_im).reshape(target_size, target_size, 1)"
   ]
  },
  {
   "cell_type": "code",
   "execution_count": 83,
   "metadata": {},
   "outputs": [
    {
     "name": "stderr",
     "output_type": "stream",
     "text": [
      "100%|██████████| 9980/9980 [00:07<00:00, 1375.53it/s]"
     ]
    },
    {
     "name": "stdout",
     "output_type": "stream",
     "text": [
      "(9980,)\n",
      "(9980, 100, 100, 1)\n"
     ]
    },
    {
     "name": "stderr",
     "output_type": "stream",
     "text": [
      "\n"
     ]
    }
   ],
   "source": [
    "# Read labels\n",
    "labels = pd.read_csv('train.csv', index_col='id')\n",
    "n_images = len(labels)\n",
    "y = []\n",
    "x = []\n",
    "for row_idx in tqdm(range(n_images)):\n",
    "    lrow = labels.iloc[row_idx]\n",
    "    y.append(lrow.values[0])\n",
    "    x0 = get_image_values(\"images/{}.jpg\".format(lrow.name))\n",
    "    x.append(x0)\n",
    "y = np.array(y)\n",
    "x = np.array(x)\n",
    "print(y.shape)\n",
    "print(x.shape)"
   ]
  },
  {
   "cell_type": "code",
   "execution_count": 84,
   "metadata": {},
   "outputs": [],
   "source": [
    "# Split the data up in train and test sets\n",
    "n_classes = np.unique(y).shape[0]\n",
    "x_train, x_test, y_train, y_test = train_test_split(x/255, y, test_size=0.33, random_state=42)\n",
    "y_train = np_utils.to_categorical(y_train - 1, n_classes)\n",
    "y_test = np_utils.to_categorical(y_test - 1, n_classes)"
   ]
  },
  {
   "cell_type": "markdown",
   "metadata": {},
   "source": [
    "# Model"
   ]
  },
  {
   "cell_type": "code",
   "execution_count": 132,
   "metadata": {},
   "outputs": [],
   "source": [
    "batch_size = 32 # in each iteration, we consider 32 training examples at once\n",
    "num_epochs = 25 # we iterate 200 times over the entire training set\n",
    "kernel_size = 3 # we will use 3x3 kernels throughout\n",
    "pool_size = 2 # we will use 2x2 pooling throughout\n",
    "conv_depth_1 = 8 # we will initially have 32 kernels per conv. layer...\n",
    "conv_depth_2 = 16 # ...switching to 64 after the first pooling layer\n",
    "drop_prob_1 = 0.25 # dropout after pooling with probability 0.25\n",
    "drop_prob_2 = 0.5 # dropout in the FC layer with probability 0.5\n",
    "hidden_size_1 = 512 # the FC layer will have 512 neurons\n",
    "hidden_size_2 = 64 # the FC layer will have 512 neurons\n",
    "lrate = 0.01\n",
    "decay = 1e-6"
   ]
  },
  {
   "cell_type": "code",
   "execution_count": 133,
   "metadata": {},
   "outputs": [
    {
     "name": "stdout",
     "output_type": "stream",
     "text": [
      "_________________________________________________________________\n",
      "Layer (type)                 Output Shape              Param #   \n",
      "=================================================================\n",
      "conv2d_46 (Conv2D)           (None, 100, 100, 8)       80        \n",
      "_________________________________________________________________\n",
      "max_pooling2d_35 (MaxPooling (None, 50, 50, 8)         0         \n",
      "_________________________________________________________________\n",
      "conv2d_47 (Conv2D)           (None, 50, 50, 16)        1168      \n",
      "_________________________________________________________________\n",
      "max_pooling2d_36 (MaxPooling (None, 25, 25, 16)        0         \n",
      "_________________________________________________________________\n",
      "flatten_22 (Flatten)         (None, 10000)             0         \n",
      "_________________________________________________________________\n",
      "dense_45 (Dense)             (None, 512)               5120512   \n",
      "_________________________________________________________________\n",
      "dropout_32 (Dropout)         (None, 512)               0         \n",
      "_________________________________________________________________\n",
      "dense_46 (Dense)             (None, 64)                32832     \n",
      "_________________________________________________________________\n",
      "dropout_33 (Dropout)         (None, 64)                0         \n",
      "_________________________________________________________________\n",
      "dense_47 (Dense)             (None, 4)                 260       \n",
      "=================================================================\n",
      "Total params: 5,154,852\n",
      "Trainable params: 5,154,852\n",
      "Non-trainable params: 0\n",
      "_________________________________________________________________\n",
      "None\n"
     ]
    }
   ],
   "source": [
    "# Create the model\n",
    "model = Sequential()\n",
    "model.add(Convolution2D(conv_depth_1, (kernel_size, kernel_size), input_shape=(target_size, target_size, 1), padding='same', activation='relu', kernel_constraint=maxnorm(3)))\n",
    "model.add(MaxPooling2D(pool_size=(pool_size, pool_size)))\n",
    "#model.add(Dropout(drop_prob_1))\n",
    "model.add(Convolution2D(conv_depth_2, (kernel_size, kernel_size), activation='relu', padding='same', kernel_constraint=maxnorm(3)))\n",
    "model.add(MaxPooling2D(pool_size=(pool_size, pool_size)))\n",
    "model.add(Flatten())\n",
    "model.add(Dense(hidden_size_1, activation='relu', kernel_constraint=maxnorm(3)))\n",
    "model.add(Dropout(drop_prob_2))\n",
    "model.add(Dense(hidden_size_2, activation='relu', kernel_constraint=maxnorm(3)))\n",
    "model.add(Dropout(drop_prob_2))\n",
    "model.add(Dense(n_classes, activation='softmax'))\n",
    "# Compile model\n",
    "sgd = SGD(lr=lrate, momentum=0.9, decay=decay, nesterov=False)\n",
    "model.compile(loss='categorical_crossentropy', optimizer=sgd, metrics=['accuracy'])\n",
    "print(model.summary())"
   ]
  },
  {
   "cell_type": "code",
   "execution_count": 134,
   "metadata": {},
   "outputs": [
    {
     "name": "stdout",
     "output_type": "stream",
     "text": [
      "Train on 6017 samples, validate on 669 samples\n",
      "Epoch 1/25\n",
      "6017/6017 [==============================] - 29s 5ms/step - loss: 1.2295 - acc: 0.4574 - val_loss: 1.0456 - val_acc: 0.5561\n",
      "Epoch 2/25\n",
      "6017/6017 [==============================] - 27s 4ms/step - loss: 1.0828 - acc: 0.5388 - val_loss: 1.0616 - val_acc: 0.5441\n",
      "Epoch 3/25\n",
      "6017/6017 [==============================] - 27s 5ms/step - loss: 1.0555 - acc: 0.5551 - val_loss: 0.9667 - val_acc: 0.5904\n",
      "Epoch 4/25\n",
      "6017/6017 [==============================] - 28s 5ms/step - loss: 1.0241 - acc: 0.5641 - val_loss: 0.9695 - val_acc: 0.5964\n",
      "Epoch 5/25\n",
      "6017/6017 [==============================] - 27s 5ms/step - loss: 0.9904 - acc: 0.5745 - val_loss: 0.9420 - val_acc: 0.5994\n",
      "Epoch 6/25\n",
      "6017/6017 [==============================] - 27s 5ms/step - loss: 0.9724 - acc: 0.5817 - val_loss: 0.9492 - val_acc: 0.6009\n",
      "Epoch 7/25\n",
      "6017/6017 [==============================] - 28s 5ms/step - loss: 0.9570 - acc: 0.5953 - val_loss: 0.9317 - val_acc: 0.5994\n",
      "Epoch 8/25\n",
      "6017/6017 [==============================] - 27s 5ms/step - loss: 0.9147 - acc: 0.6083 - val_loss: 0.9030 - val_acc: 0.6054\n",
      "Epoch 9/25\n",
      "6017/6017 [==============================] - 28s 5ms/step - loss: 0.9011 - acc: 0.6194 - val_loss: 1.0300 - val_acc: 0.5575\n",
      "Epoch 10/25\n",
      "6017/6017 [==============================] - 28s 5ms/step - loss: 1.0577 - acc: 0.5509 - val_loss: 1.0106 - val_acc: 0.5635\n",
      "Epoch 11/25\n",
      "6017/6017 [==============================] - 27s 4ms/step - loss: 0.9707 - acc: 0.5872 - val_loss: 0.9965 - val_acc: 0.5650\n",
      "Epoch 12/25\n",
      "6017/6017 [==============================] - 26s 4ms/step - loss: 0.9486 - acc: 0.5920 - val_loss: 0.9622 - val_acc: 0.5755\n",
      "Epoch 13/25\n",
      "6017/6017 [==============================] - 26s 4ms/step - loss: 0.8966 - acc: 0.6151 - val_loss: 0.9855 - val_acc: 0.5889\n",
      "Epoch 14/25\n",
      "6017/6017 [==============================] - 26s 4ms/step - loss: 0.8651 - acc: 0.6332 - val_loss: 0.9698 - val_acc: 0.5979\n",
      "Epoch 15/25\n",
      "6017/6017 [==============================] - 28s 5ms/step - loss: 0.8495 - acc: 0.6365 - val_loss: 0.9344 - val_acc: 0.6114\n",
      "Epoch 16/25\n",
      "6017/6017 [==============================] - 27s 4ms/step - loss: 0.7944 - acc: 0.6583 - val_loss: 0.9656 - val_acc: 0.6039\n",
      "Epoch 17/25\n",
      "6017/6017 [==============================] - 26s 4ms/step - loss: 0.7616 - acc: 0.6703 - val_loss: 0.9628 - val_acc: 0.6054\n",
      "Epoch 18/25\n",
      "6017/6017 [==============================] - 26s 4ms/step - loss: 0.7031 - acc: 0.7098 - val_loss: 0.9661 - val_acc: 0.6129\n",
      "Epoch 19/25\n",
      "6017/6017 [==============================] - 26s 4ms/step - loss: 0.6626 - acc: 0.7231 - val_loss: 1.0519 - val_acc: 0.5785\n",
      "Epoch 20/25\n",
      "6017/6017 [==============================] - 28s 5ms/step - loss: 0.6117 - acc: 0.7464 - val_loss: 1.0311 - val_acc: 0.6143\n",
      "Epoch 21/25\n",
      "6017/6017 [==============================] - 30s 5ms/step - loss: 0.5809 - acc: 0.7640 - val_loss: 0.9717 - val_acc: 0.6099\n",
      "Epoch 22/25\n",
      "6017/6017 [==============================] - 27s 4ms/step - loss: 0.5620 - acc: 0.7702 - val_loss: 1.1578 - val_acc: 0.5904\n",
      "Epoch 23/25\n",
      "6017/6017 [==============================] - 26s 4ms/step - loss: 0.5142 - acc: 0.7914 - val_loss: 1.1897 - val_acc: 0.5845\n",
      "Epoch 24/25\n",
      "6017/6017 [==============================] - 26s 4ms/step - loss: 0.4810 - acc: 0.8092 - val_loss: 1.1769 - val_acc: 0.5904\n",
      "Epoch 25/25\n",
      "6017/6017 [==============================] - 26s 4ms/step - loss: 0.4442 - acc: 0.8193 - val_loss: 1.3129 - val_acc: 0.5964\n",
      "3294/3294 [==============================] - 4s 1ms/step\n"
     ]
    },
    {
     "data": {
      "text/plain": [
       "[1.166917747704275, 0.6311475411645557]"
      ]
     },
     "execution_count": 134,
     "metadata": {},
     "output_type": "execute_result"
    }
   ],
   "source": [
    "model.fit(x_train, y_train,                # Train the model using the training set...\n",
    "          batch_size=batch_size, epochs=num_epochs,\n",
    "          verbose=1, validation_split=0.1) # ...holding out 10% of the data for validation\n",
    "model.evaluate(x_test, y_test, verbose=1)  # Evaluate the trained model on the test set!"
   ]
  },
  {
   "cell_type": "code",
   "execution_count": 144,
   "metadata": {},
   "outputs": [
    {
     "ename": "ImportError",
     "evalue": "`save_model` requires h5py.",
     "output_type": "error",
     "traceback": [
      "\u001b[0;31m---------------------------------------------------------------------------\u001b[0m",
      "\u001b[0;31mImportError\u001b[0m                               Traceback (most recent call last)",
      "\u001b[0;32m<ipython-input-144-a6270028f668>\u001b[0m in \u001b[0;36m<module>\u001b[0;34m()\u001b[0m\n\u001b[0;32m----> 1\u001b[0;31m \u001b[0mmodel\u001b[0m\u001b[0;34m.\u001b[0m\u001b[0msave\u001b[0m\u001b[0;34m(\u001b[0m\u001b[0;34m'model0.pkl'\u001b[0m\u001b[0;34m)\u001b[0m\u001b[0;34m\u001b[0m\u001b[0m\n\u001b[0m",
      "\u001b[0;32m~/Documents/Sources/datascience/engie_ds/rooftop/venv-rooftop/lib/python3.6/site-packages/keras/engine/topology.py\u001b[0m in \u001b[0;36msave\u001b[0;34m(self, filepath, overwrite, include_optimizer)\u001b[0m\n\u001b[1;32m   2571\u001b[0m         \"\"\"\n\u001b[1;32m   2572\u001b[0m         \u001b[0;32mfrom\u001b[0m \u001b[0;34m.\u001b[0m\u001b[0;34m.\u001b[0m\u001b[0mmodels\u001b[0m \u001b[0;32mimport\u001b[0m \u001b[0msave_model\u001b[0m\u001b[0;34m\u001b[0m\u001b[0m\n\u001b[0;32m-> 2573\u001b[0;31m         \u001b[0msave_model\u001b[0m\u001b[0;34m(\u001b[0m\u001b[0mself\u001b[0m\u001b[0;34m,\u001b[0m \u001b[0mfilepath\u001b[0m\u001b[0;34m,\u001b[0m \u001b[0moverwrite\u001b[0m\u001b[0;34m,\u001b[0m \u001b[0minclude_optimizer\u001b[0m\u001b[0;34m)\u001b[0m\u001b[0;34m\u001b[0m\u001b[0m\n\u001b[0m\u001b[1;32m   2574\u001b[0m \u001b[0;34m\u001b[0m\u001b[0m\n\u001b[1;32m   2575\u001b[0m     \u001b[0;32mdef\u001b[0m \u001b[0msave_weights\u001b[0m\u001b[0;34m(\u001b[0m\u001b[0mself\u001b[0m\u001b[0;34m,\u001b[0m \u001b[0mfilepath\u001b[0m\u001b[0;34m,\u001b[0m \u001b[0moverwrite\u001b[0m\u001b[0;34m=\u001b[0m\u001b[0;32mTrue\u001b[0m\u001b[0;34m)\u001b[0m\u001b[0;34m:\u001b[0m\u001b[0;34m\u001b[0m\u001b[0m\n",
      "\u001b[0;32m~/Documents/Sources/datascience/engie_ds/rooftop/venv-rooftop/lib/python3.6/site-packages/keras/models.py\u001b[0m in \u001b[0;36msave_model\u001b[0;34m(model, filepath, overwrite, include_optimizer)\u001b[0m\n\u001b[1;32m     58\u001b[0m \u001b[0;34m\u001b[0m\u001b[0m\n\u001b[1;32m     59\u001b[0m     \u001b[0;32mif\u001b[0m \u001b[0mh5py\u001b[0m \u001b[0;32mis\u001b[0m \u001b[0;32mNone\u001b[0m\u001b[0;34m:\u001b[0m\u001b[0;34m\u001b[0m\u001b[0m\n\u001b[0;32m---> 60\u001b[0;31m         \u001b[0;32mraise\u001b[0m \u001b[0mImportError\u001b[0m\u001b[0;34m(\u001b[0m\u001b[0;34m'`save_model` requires h5py.'\u001b[0m\u001b[0;34m)\u001b[0m\u001b[0;34m\u001b[0m\u001b[0m\n\u001b[0m\u001b[1;32m     61\u001b[0m \u001b[0;34m\u001b[0m\u001b[0m\n\u001b[1;32m     62\u001b[0m     \u001b[0;32mdef\u001b[0m \u001b[0mget_json_type\u001b[0m\u001b[0;34m(\u001b[0m\u001b[0mobj\u001b[0m\u001b[0;34m)\u001b[0m\u001b[0;34m:\u001b[0m\u001b[0;34m\u001b[0m\u001b[0m\n",
      "\u001b[0;31mImportError\u001b[0m: `save_model` requires h5py."
     ]
    }
   ],
   "source": [
    "model.save('model0.pkl')"
   ]
  },
  {
   "cell_type": "code",
   "execution_count": 147,
   "metadata": {},
   "outputs": [
    {
     "name": "stdout",
     "output_type": "stream",
     "text": [
      "0 not in labels\n",
      "1 not in labels\n",
      "2 not in labels\n",
      "3 not in labels\n",
      "4 not in labels\n",
      "5 not in labels\n",
      "6 not in labels\n",
      "7 not in labels\n",
      "8 not in labels\n",
      "9 not in labels\n",
      "10 not in labels\n",
      "11 not in labels\n"
     ]
    }
   ],
   "source": [
    "for k in range(14104):\n",
    "    if k not in labels.index:\n",
    "        get_image_values('images/*.jpg')\n",
    "        print('{} in labels'.format(k))\n",
    "    else:\n",
    "        print('{} not in labels'.format(k))\n",
    "    if k > 10:\n",
    "        break\n"
   ]
  },
  {
   "cell_type": "code",
   "execution_count": 154,
   "metadata": {},
   "outputs": [
    {
     "data": {
      "text/plain": [
       "False"
      ]
     },
     "execution_count": 154,
     "metadata": {},
     "output_type": "execute_result"
    }
   ],
   "source": [
    "109983 in labels.index"
   ]
  }
 ],
 "metadata": {
  "kernelspec": {
   "display_name": "venv-rooftop",
   "language": "python",
   "name": "venv-rooftop"
  },
  "language_info": {
   "codemirror_mode": {
    "name": "ipython",
    "version": 3
   },
   "file_extension": ".py",
   "mimetype": "text/x-python",
   "name": "python",
   "nbconvert_exporter": "python",
   "pygments_lexer": "ipython3",
   "version": "3.6.3"
  }
 },
 "nbformat": 4,
 "nbformat_minor": 2
}
