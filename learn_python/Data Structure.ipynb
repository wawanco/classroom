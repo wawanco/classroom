{
 "cells": [
  {
   "cell_type": "markdown",
   "metadata": {},
   "source": [
    "# Data Structures andAlgorithms in Python\n",
    "_Michael T. Goodrich, Roberto Tamassia, Michael H. Goldwasser_"
   ]
  },
  {
   "cell_type": "markdown",
   "metadata": {},
   "source": [
    "## Chapter 1"
   ]
  },
  {
   "cell_type": "code",
   "execution_count": 1,
   "metadata": {},
   "outputs": [
    {
     "name": "stdout",
     "output_type": "stream",
     "text": [
      "[9, 7, 3, 1]\n"
     ]
    }
   ],
   "source": [
    "# C 1.13\n",
    "def rev(l):\n",
    "    n = len(l)\n",
    "    for i in range(1, n + 1):\n",
    "        yield l[-i]\n",
    "l = [1, 3, 7, 9]\n",
    "print([x for x in rev(l)])"
   ]
  },
  {
   "cell_type": "code",
   "execution_count": 11,
   "metadata": {},
   "outputs": [
    {
     "name": "stdout",
     "output_type": "stream",
     "text": [
      "[0, 2, 6, 12, 20, 30, 42, 56, 72, 90]\n",
      "['a', 'b', 'c', 'd', 'e', 'f', 'g', 'h', 'i', 'j', 'k', 'l', 'm', 'n', 'o', 'p', 'q', 'r', 's', 't', 'u', 'v', 'w', 'x', 'y', 'z']\n"
     ]
    }
   ],
   "source": [
    "# C 1.18 - 19\n",
    "print([i * (i + 1) for i in range(10)])\n",
    "print([chr(i + 97) for i in range(26)])"
   ]
  },
  {
   "cell_type": "code",
   "execution_count": 13,
   "metadata": {},
   "outputs": [
    {
     "name": "stdout",
     "output_type": "stream",
     "text": [
      "[9, 0, 7, 6, 5, 1]\n"
     ]
    }
   ],
   "source": [
    "# C 1.20\n",
    "from random import randint\n",
    "def shuffle(data):\n",
    "    n = len(data)\n",
    "    for i in range(n):\n",
    "        rand_index = randint(0, n - 1)\n",
    "        data[i], data[rand_index] = data[rand_index], data[i]\n",
    "l = [1, 7, 9, 0, 5, 6]\n",
    "shuffle(l)\n",
    "print(l)"
   ]
  },
  {
   "cell_type": "code",
   "execution_count": 15,
   "metadata": {},
   "outputs": [
    {
     "name": "stdout",
     "output_type": "stream",
     "text": [
      "Don't try buffer overflow attacks in Python!\n"
     ]
    }
   ],
   "source": [
    "# C 1.23\n",
    "def get_elem(data, index):\n",
    "    try:\n",
    "        return data[index]\n",
    "    except IndexError:\n",
    "        print('Don\\'t try buffer overflow attacks in Python!')\n",
    "get_elem([1, 2], 5)"
   ]
  },
  {
   "cell_type": "code",
   "execution_count": 16,
   "metadata": {},
   "outputs": [
    {
     "data": {
      "text/plain": [
       "3"
      ]
     },
     "execution_count": 16,
     "metadata": {},
     "output_type": "execute_result"
    }
   ],
   "source": [
    "# C 1.24\n",
    "s = 'lkdushbaco'\n",
    "len([_ for c in s if c in 'aeiouy'])"
   ]
  },
  {
   "cell_type": "code",
   "execution_count": 2,
   "metadata": {},
   "outputs": [
    {
     "ename": "AttributeError",
     "evalue": "'str' object has no attribute 'remove'",
     "output_type": "error",
     "traceback": [
      "\u001b[0;31m---------------------------------------------------------------------------\u001b[0m",
      "\u001b[0;31mAttributeError\u001b[0m                            Traceback (most recent call last)",
      "\u001b[0;32m<ipython-input-2-864f9d91c9fe>\u001b[0m in \u001b[0;36m<module>\u001b[0;34m()\u001b[0m\n\u001b[1;32m      2\u001b[0m \u001b[0;34m\u001b[0m\u001b[0m\n\u001b[1;32m      3\u001b[0m \u001b[0mchars\u001b[0m \u001b[0;34m=\u001b[0m \u001b[0;34m'catdog'\u001b[0m\u001b[0;34m\u001b[0m\u001b[0m\n\u001b[0;32m----> 4\u001b[0;31m \u001b[0mchars\u001b[0m\u001b[0;34m.\u001b[0m\u001b[0mremove\u001b[0m\u001b[0;34m(\u001b[0m\u001b[0;36m0\u001b[0m\u001b[0;34m)\u001b[0m\u001b[0;34m\u001b[0m\u001b[0m\n\u001b[0m",
      "\u001b[0;31mAttributeError\u001b[0m: 'str' object has no attribute 'remove'"
     ]
    }
   ],
   "source": [
    "# P 1.29\n",
    "\n",
    "chars = 'catdog'\n",
    "\n",
    "chars.remove(0)"
   ]
  },
  {
   "cell_type": "markdown",
   "metadata": {},
   "source": [
    "# Cracking The Code Interview\n",
    "_Gayle Laakmaan_"
   ]
  },
  {
   "cell_type": "markdown",
   "metadata": {},
   "source": [
    "## Linked Lists"
   ]
  },
  {
   "cell_type": "code",
   "execution_count": 23,
   "metadata": {},
   "outputs": [
    {
     "name": "stdout",
     "output_type": "stream",
     "text": [
      "[[1]] -> [1] -> [1] -> [4] -> [6] -> [1] -> [6] -> [8] -> [5] -> *\n",
      "[[1]] -> [4] -> [6] -> [8] -> [5] -> *\n"
     ]
    }
   ],
   "source": [
    "class Node:\n",
    "    def __init__(self, data: int):\n",
    "        self.next = None\n",
    "        self.data = data\n",
    "        \n",
    "    def append(self, data: int):\n",
    "        end = Node(data)\n",
    "        n = self\n",
    "        while(n.next is not None):\n",
    "            n = n.next\n",
    "        n.next = end\n",
    "        \n",
    "    def dedup(self):\n",
    "        seen = set()\n",
    "        n = self\n",
    "        previous = Node(None)\n",
    "        while n is not None:\n",
    "            if n.data in seen:\n",
    "                previous.next = n.next\n",
    "            else:\n",
    "                seen.add(n.data)\n",
    "                previous = n\n",
    "            n = n.next\n",
    "    \n",
    "    def __str__(self):\n",
    "        msg = ''\n",
    "        msg += '[[{}]] -> '.format(self.data)\n",
    "        n = self.next\n",
    "        while n is not None:\n",
    "            msg += '[{}] -> '.format(n.data)\n",
    "            n = n.next\n",
    "        msg += '*'\n",
    "        return msg\n",
    "\n",
    "    \n",
    "def remove(head: Node, data: int) -> Node:\n",
    "    while head.data == data:\n",
    "        head = head.next\n",
    "    \n",
    "    n = head\n",
    "    while n.next is not None:\n",
    "        if n.next.data == data:\n",
    "            next_node = n.next\n",
    "            while next_node.data == data:\n",
    "                next_node = next_node.next\n",
    "            n.next = next_node\n",
    "        n = n.next\n",
    "    return head\n",
    "\n",
    "n = Node(1)\n",
    "n.append(1)\n",
    "n.append(1)\n",
    "n.append(4)\n",
    "n.append(6)\n",
    "n.append(1)\n",
    "n.append(6)\n",
    "n.append(8)\n",
    "n.append(5)\n",
    "print(n)\n",
    "n.dedup()\n",
    "print(n)"
   ]
  },
  {
   "cell_type": "markdown",
   "metadata": {},
   "source": [
    "## Stack And Queue"
   ]
  },
  {
   "cell_type": "code",
   "execution_count": 14,
   "metadata": {},
   "outputs": [
    {
     "name": "stdout",
     "output_type": "stream",
     "text": [
      "[[12]] -> [6] -> [13] -> * size=3\n",
      "12\n",
      "[[6]] -> [13] -> * size=2\n",
      "min=6\n",
      "[[13]] -> * size=1\n",
      "min=13\n"
     ]
    }
   ],
   "source": [
    "class Node:\n",
    "    def __init__(self, data: int, min_beneath: int):\n",
    "        self.next = None\n",
    "        self.data = data\n",
    "        self.min_beneath = min_beneath\n",
    "    \n",
    "    def __str__(self):\n",
    "        msg = ''\n",
    "        msg += '[[{}]] -> '.format(self.data)\n",
    "        n = self.next\n",
    "        while n is not None:\n",
    "            msg += '[{}] -> '.format(n.data)\n",
    "            n = n.next\n",
    "        msg += '*'\n",
    "        return msg\n",
    "\n",
    "class Stack:\n",
    "    def __init__(self):\n",
    "        self.top = None\n",
    "        self.size = 0\n",
    "        \n",
    "    def push(self, data: int):\n",
    "        new_min = data if self.top is None else min(data, self.top.min_beneath)\n",
    "        new_top = Node(data, new_min)\n",
    "        new_top.next = self.top\n",
    "        self.top = new_top\n",
    "        self.size += 1\n",
    "        \n",
    "    def pop(self):\n",
    "        if self.top is None:\n",
    "            return None\n",
    "        item = self.top.data\n",
    "        self.top = self.top.next\n",
    "        self.size -= 1\n",
    "        return item\n",
    "    \n",
    "    def min(self):\n",
    "        return self.top.min_beneath\n",
    "    \n",
    "    def __str__(self):\n",
    "        return str(self.top)\n",
    "    \n",
    "\n",
    "class SetOfStacks:\n",
    "    def __init__(max_size: int):\n",
    "        self.max_size = max_size\n",
    "        self.stacks = [Stack()]\n",
    "        \n",
    "    def push(self, data):\n",
    "        if self.stacks[-1].size >= max_size:\n",
    "            self.stacks.append(Stack())\n",
    "        self.stacks[-1].push(data)\n",
    "    \n",
    "    def pop(self):\n",
    "        elem = self.stacks[-1].pop()\n",
    "        if not elem:\n",
    "            if len(self.stacks) == 1:\n",
    "                return None\n",
    "            self.stacks.pop()\n",
    "            return self.pop()\n",
    "        \n",
    "        \n",
    "    \n",
    "s = Stack()\n",
    "s.push(13)\n",
    "s.push(6)\n",
    "s.push(12)\n",
    "print(s, 'size={}'.format(s.size))\n",
    "print(s.pop())\n",
    "print(s, 'size={}'.format(s.size))\n",
    "print('min={}'.format(s.min()))\n",
    "s.pop()\n",
    "print(s, 'size={}'.format(s.size))\n",
    "print('min={}'.format(s.min()))"
   ]
  },
  {
   "cell_type": "markdown",
   "metadata": {},
   "source": [
    "## Bit Manipulation"
   ]
  },
  {
   "cell_type": "code",
   "execution_count": 92,
   "metadata": {},
   "outputs": [
    {
     "name": "stdout",
     "output_type": "stream",
     "text": [
      "1111011\n",
      "100101\n",
      "[0, 1, 2, 3, 4, 5, 6, 7, 8, 9, 10, 11, 12, 13, 14, 15, 0, 1, 2, 3, 4, 5, 6, 7, 8, 9, 10, 11, 12, 13, 14, 15]\n"
     ]
    }
   ],
   "source": [
    "def replace(n, m, i, j):\n",
    "    max_ = (1 << 32) - 1\n",
    "    left = max_ - ((1 << j) - 1)\n",
    "    right = (1 << i) - 1\n",
    "    mask = left | right\n",
    "    return (n & mask) | (m << i)\n",
    "\n",
    "print('{0:b}'.format(replace(127, 2, 2, 4)))\n",
    "\n",
    "def i2b(n):\n",
    "    s = ''\n",
    "    while n > 0:\n",
    "        s = str(n % 2) + s\n",
    "        n >>= 1\n",
    "    return s\n",
    "\n",
    "print(i2b(37))\n",
    "\n",
    "# For power of two, modulo can be achieved with masking\n",
    "def mod(n):\n",
    "    return n & ((1 << 4) - 1)\n",
    "#    return n % (1 << 4)\n",
    "\n",
    "print([mod(i) for i in range(32)])"
   ]
  },
  {
   "cell_type": "markdown",
   "metadata": {},
   "source": [
    "## Recursion"
   ]
  },
  {
   "cell_type": "code",
   "execution_count": 54,
   "metadata": {},
   "outputs": [
    {
     "data": {
      "text/plain": [
       "8"
      ]
     },
     "execution_count": 54,
     "metadata": {},
     "output_type": "execute_result"
    }
   ],
   "source": [
    "def fibo(n):\n",
    "    if n <= 1:\n",
    "        return 1\n",
    "    return fibo(n - 1) + fibo(n - 2)\n",
    "\n",
    "fibo(5)"
   ]
  },
  {
   "cell_type": "code",
   "execution_count": 60,
   "metadata": {},
   "outputs": [
    {
     "name": "stdout",
     "output_type": "stream",
     "text": [
      "vyubx\n",
      "yvubx\n",
      "yuvbx\n",
      "yubvx\n",
      "yubxv\n",
      "vuybx\n",
      "uvybx\n",
      "uyvbx\n",
      "uybvx\n",
      "uybxv\n",
      "vubyx\n",
      "uvbyx\n",
      "ubvyx\n",
      "ubyvx\n",
      "ubyxv\n",
      "vubxy\n",
      "uvbxy\n",
      "ubvxy\n",
      "ubxvy\n",
      "ubxyv\n",
      "vybux\n",
      "yvbux\n",
      "ybvux\n",
      "ybuvx\n",
      "ybuxv\n",
      "vbyux\n",
      "bvyux\n",
      "byvux\n",
      "byuvx\n",
      "byuxv\n",
      "vbuyx\n",
      "bvuyx\n",
      "buvyx\n",
      "buyvx\n",
      "buyxv\n",
      "vbuxy\n",
      "bvuxy\n",
      "buvxy\n",
      "buxvy\n",
      "buxyv\n",
      "vybxu\n",
      "yvbxu\n",
      "ybvxu\n",
      "ybxvu\n",
      "ybxuv\n",
      "vbyxu\n",
      "bvyxu\n",
      "byvxu\n",
      "byxvu\n",
      "byxuv\n",
      "vbxyu\n",
      "bvxyu\n",
      "bxvyu\n",
      "bxyvu\n",
      "bxyuv\n",
      "vbxuy\n",
      "bvxuy\n",
      "bxvuy\n",
      "bxuvy\n",
      "bxuyv\n",
      "vyuxb\n",
      "yvuxb\n",
      "yuvxb\n",
      "yuxvb\n",
      "yuxbv\n",
      "vuyxb\n",
      "uvyxb\n",
      "uyvxb\n",
      "uyxvb\n",
      "uyxbv\n",
      "vuxyb\n",
      "uvxyb\n",
      "uxvyb\n",
      "uxyvb\n",
      "uxybv\n",
      "vuxby\n",
      "uvxby\n",
      "uxvby\n",
      "uxbvy\n",
      "uxbyv\n",
      "vyxub\n",
      "yvxub\n",
      "yxvub\n",
      "yxuvb\n",
      "yxubv\n",
      "vxyub\n",
      "xvyub\n",
      "xyvub\n",
      "xyuvb\n",
      "xyubv\n",
      "vxuyb\n",
      "xvuyb\n",
      "xuvyb\n",
      "xuyvb\n",
      "xuybv\n",
      "vxuby\n",
      "xvuby\n",
      "xuvby\n",
      "xubvy\n",
      "xubyv\n",
      "vyxbu\n",
      "yvxbu\n",
      "yxvbu\n",
      "yxbvu\n",
      "yxbuv\n",
      "vxybu\n",
      "xvybu\n",
      "xyvbu\n",
      "xybvu\n",
      "xybuv\n",
      "vxbyu\n",
      "xvbyu\n",
      "xbvyu\n",
      "xbyvu\n",
      "xbyuv\n",
      "vxbuy\n",
      "xvbuy\n",
      "xbvuy\n",
      "xbuvy\n",
      "xbuyv\n"
     ]
    }
   ],
   "source": [
    "def _insert(w, c, i):\n",
    "    return w[:i] + c + w[i:]\n",
    "\n",
    "def perm(s):\n",
    "    permutations = []\n",
    "    if len(s) == 1:\n",
    "        permutations.append(s)\n",
    "        return permutations\n",
    "    last_char = s[-1]\n",
    "    for word in perm(s[:-1]):\n",
    "        for i in range(len(word) + 1):\n",
    "            permutations.append(_insert(word, last_char, i))\n",
    "    return permutations\n",
    "\n",
    "print('\\n'.join(perm('xbuyv')))"
   ]
  },
  {
   "cell_type": "markdown",
   "metadata": {},
   "source": [
    "## Sorting"
   ]
  },
  {
   "cell_type": "code",
   "execution_count": 87,
   "metadata": {},
   "outputs": [
    {
     "name": "stdout",
     "output_type": "stream",
     "text": [
      "[2, 3, 3, 4, 5, 6, 8, 9]\n",
      "[2, 3, 3, 4, 5, 6, 8, 9]\n",
      "0 8 => 4\n",
      "0 4 => 2\n",
      "0 2 => 1\n",
      "2 4 => 3\n",
      "4 8 => 6\n",
      "4 6 => 5\n",
      "6 8 => 7\n",
      "[2, 3, 3, 4, 5, 6, 8, 9]\n"
     ]
    }
   ],
   "source": [
    "def bubble(arr):\n",
    "    changed = True\n",
    "    while changed:\n",
    "        changed = False\n",
    "        for i in range(len(arr) - 1):\n",
    "            if arr[i] > arr[i + 1]:\n",
    "                arr[i], arr[i + 1] = arr[i + 1], arr[i]\n",
    "                changed = True\n",
    "    return arr\n",
    "\n",
    "def selection(arr):\n",
    "    \n",
    "    for i in range(len(arr)):\n",
    "        min_idx = min(range(i, len(arr)), key=arr.__getitem__)\n",
    "        arr[i], arr[min_idx] = arr[min_idx], arr[i]\n",
    "    return arr\n",
    "\n",
    "\n",
    "def mergesort(arr):\n",
    "    def merge(arr0, arr1):\n",
    "        result = []\n",
    "        while arr0 and arr1:\n",
    "            if(arr0[0] < arr1[0]):\n",
    "                result.append(arr0.pop(0))\n",
    "            else:\n",
    "                result.append(arr1.pop(0))\n",
    "        if arr0:\n",
    "            result.extend(arr0)\n",
    "        elif arr1:\n",
    "            result.extend(arr1)\n",
    "        return result\n",
    "            \n",
    "                \n",
    "    def _mergesort(arr, i, j):\n",
    "        if j - i <= 1:\n",
    "            return arr[i:j]\n",
    "        middle = (j + i) // 2\n",
    "        return merge(\n",
    "            _mergesort(arr, i, middle),\n",
    "            _mergesort(arr, middle, j)\n",
    "        )\n",
    "    return _mergesort(arr, 0, len(arr))\n",
    "\n",
    "print(bubble([4, 6, 3, 8, 5, 2, 3, 9]))\n",
    "print(selection([4, 6, 3, 8, 5, 2, 3, 9]))\n",
    "print(mergesort([4, 6, 3, 8, 5, 2, 3, 9]))"
   ]
  },
  {
   "cell_type": "code",
   "execution_count": null,
   "metadata": {},
   "outputs": [],
   "source": []
  }
 ],
 "metadata": {
  "kernelspec": {
   "display_name": "Python 3",
   "language": "python",
   "name": "python3"
  },
  "language_info": {
   "codemirror_mode": {
    "name": "ipython",
    "version": 3
   },
   "file_extension": ".py",
   "mimetype": "text/x-python",
   "name": "python",
   "nbconvert_exporter": "python",
   "pygments_lexer": "ipython3",
   "version": "3.6.5"
  }
 },
 "nbformat": 4,
 "nbformat_minor": 2
}
