{
 "cells": [
  {
   "cell_type": "markdown",
   "metadata": {},
   "source": [
    "# Static Type Checking"
   ]
  },
  {
   "cell_type": "code",
   "execution_count": 4,
   "metadata": {},
   "outputs": [
    {
     "data": {
      "text/plain": [
       "'Thibault'"
      ]
     },
     "execution_count": 4,
     "metadata": {},
     "output_type": "execute_result"
    }
   ],
   "source": [
    "def get_first_name(name: str) -> str:\n",
    "    return name.split(' ')[0]\n",
    "\n",
    "name: str = 'Thibault Rodriguez'\n",
    "get_first_name(name)"
   ]
  },
  {
   "cell_type": "code",
   "execution_count": 9,
   "metadata": {},
   "outputs": [
    {
     "name": "stdout",
     "output_type": "stream",
     "text": [
      "abc\n"
     ]
    }
   ],
   "source": [
    "from typing import Dict, List, Tuple\n",
    "\n",
    "name_counts: Dict[str, int] = {\n",
    "    'Adam': 10,\n",
    "    'Paul': 3\n",
    "}\n",
    "    \n",
    "numbers: List[int] = [1, 2, 3]\n",
    "    \n",
    "# Warning: doesnt really matter if wrong\n",
    "letters: List[int] = \"abc\"\n",
    "print(letters)\n",
    "\n",
    "# Alias\n",
    "LatLngVector = List[Tuple[float, float]]\n",
    "\n",
    "points: LatLngVector = [\n",
    "    (25.91375, -60.15503),\n",
    "    (-11.01983, -166.48477),\n",
    "    (-11.01983, -166.48477)\n",
    "]\n"
   ]
  },
  {
   "cell_type": "code",
   "execution_count": null,
   "metadata": {},
   "outputs": [],
   "source": []
  },
  {
   "cell_type": "code",
   "execution_count": null,
   "metadata": {},
   "outputs": [],
   "source": []
  }
 ],
 "metadata": {
  "kernelspec": {
   "display_name": "Python 3",
   "language": "python",
   "name": "python3"
  },
  "language_info": {
   "codemirror_mode": {
    "name": "ipython",
    "version": 3
   },
   "file_extension": ".py",
   "mimetype": "text/x-python",
   "name": "python",
   "nbconvert_exporter": "python",
   "pygments_lexer": "ipython3",
   "version": "3.6.5"
  }
 },
 "nbformat": 4,
 "nbformat_minor": 2
}
